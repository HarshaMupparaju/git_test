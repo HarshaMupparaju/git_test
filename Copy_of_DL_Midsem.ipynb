{
  "nbformat": 4,
  "nbformat_minor": 0,
  "metadata": {
    "colab": {
      "name": "Copy of DL_Midsem.ipynb",
      "provenance": [],
      "collapsed_sections": [],
      "include_colab_link": true
    },
    "kernelspec": {
      "name": "python3",
      "display_name": "Python 3"
    },
    "language_info": {
      "name": "python"
    },
    "accelerator": "GPU"
  },
  "cells": [
    {
      "cell_type": "markdown",
      "metadata": {
        "id": "view-in-github",
        "colab_type": "text"
      },
      "source": [
        "<a href=\"https://colab.research.google.com/github/HarshaMupparaju/git_test/blob/main/Copy_of_DL_Midsem.ipynb\" target=\"_parent\"><img src=\"https://colab.research.google.com/assets/colab-badge.svg\" alt=\"Open In Colab\"/></a>"
      ]
    },
    {
      "cell_type": "markdown",
      "source": [
        "#  ***Deep learning : Midsem Submission***\n",
        "\n",
        "Sohan Reddy A        : 2019A7PS0168G\n",
        "\n",
        "Sudeep Kumar Nemani  : 2019A7PS0163G\n",
        "\n",
        "Sai Harsha Mupparaju : 2019A8PS0583G\n",
        "\n",
        "\n",
        "(Upload Kaggle.json before running)"
      ],
      "metadata": {
        "id": "dtrfgrpvAZD7"
      }
    },
    {
      "cell_type": "code",
      "execution_count": null,
      "metadata": {
        "id": "q0Pf2t4r9PC8"
      },
      "outputs": [],
      "source": [
        "import warnings\n",
        "warnings.filterwarnings(\"ignore\")\n",
        "\n",
        "\n",
        "import os\n",
        "import numpy as np \n",
        "import pandas as pd\n",
        "import matplotlib.pyplot as plt\n",
        "import seaborn as sns\n",
        "from tqdm import tqdm\n",
        "\n",
        "from torchsummary import summary\n",
        "\n",
        "from PIL import Image\n",
        "\n",
        "import torch\n",
        "from torch.utils.data import Dataset, DataLoader, ConcatDataset\n",
        "import torch.nn.functional as F\n",
        "import torch.nn as nn\n",
        "\n",
        "import torchvision\n",
        "import torchvision.transforms as T\n",
        "from torchvision.utils import make_grid\n",
        "\n",
        "sns.set_style('whitegrid')\n",
        "plt.style.use(\"fivethirtyeight\")\n",
        "pd.set_option('display.max_columns', 20)\n",
        "\n",
        "\n",
        "%matplotlib inline"
      ]
    },
    {
      "cell_type": "code",
      "source": [
        "! pip install kaggle\n",
        "! pip install --upgrade --force-reinstall --no-deps kaggle\n",
        "! mkdir ~/.kaggle\n",
        "! cp kaggle.json ~/.kaggle/\n",
        "! chmod 600 ~/.kaggle/kaggle.json\n",
        "\n",
        "! kaggle competitions download -c challenges-in-representation-learning-facial-expression-recognition-challenge"
      ],
      "metadata": {
        "colab": {
          "base_uri": "https://localhost:8080/"
        },
        "id": "V01Z1Ur-NbGP",
        "outputId": "5d7b2765-45d8-4d2f-97d5-9180c430d2e9"
      },
      "execution_count": null,
      "outputs": [
        {
          "output_type": "stream",
          "name": "stdout",
          "text": [
            "Requirement already satisfied: kaggle in /usr/local/lib/python3.7/dist-packages (1.5.12)\n",
            "Requirement already satisfied: six>=1.10 in /usr/local/lib/python3.7/dist-packages (from kaggle) (1.15.0)\n",
            "Requirement already satisfied: tqdm in /usr/local/lib/python3.7/dist-packages (from kaggle) (4.64.0)\n",
            "Requirement already satisfied: python-slugify in /usr/local/lib/python3.7/dist-packages (from kaggle) (6.1.2)\n",
            "Requirement already satisfied: python-dateutil in /usr/local/lib/python3.7/dist-packages (from kaggle) (2.8.2)\n",
            "Requirement already satisfied: certifi in /usr/local/lib/python3.7/dist-packages (from kaggle) (2021.10.8)\n",
            "Requirement already satisfied: requests in /usr/local/lib/python3.7/dist-packages (from kaggle) (2.23.0)\n",
            "Requirement already satisfied: urllib3 in /usr/local/lib/python3.7/dist-packages (from kaggle) (1.24.3)\n",
            "Requirement already satisfied: text-unidecode>=1.3 in /usr/local/lib/python3.7/dist-packages (from python-slugify->kaggle) (1.3)\n",
            "Requirement already satisfied: idna<3,>=2.5 in /usr/local/lib/python3.7/dist-packages (from requests->kaggle) (2.10)\n",
            "Requirement already satisfied: chardet<4,>=3.0.2 in /usr/local/lib/python3.7/dist-packages (from requests->kaggle) (3.0.4)\n",
            "Collecting kaggle\n",
            "  Downloading kaggle-1.5.12.tar.gz (58 kB)\n",
            "\u001b[K     |████████████████████████████████| 58 kB 8.0 MB/s \n",
            "\u001b[?25hBuilding wheels for collected packages: kaggle\n",
            "  Building wheel for kaggle (setup.py) ... \u001b[?25l\u001b[?25hdone\n",
            "  Created wheel for kaggle: filename=kaggle-1.5.12-py3-none-any.whl size=73051 sha256=258b7688f97342d246ed27ae890e0ee6854d81d9207cccd8140f6a0d97cb4c83\n",
            "  Stored in directory: /root/.cache/pip/wheels/62/d6/58/5853130f941e75b2177d281eb7e44b4a98ed46dd155f556dc5\n",
            "Successfully built kaggle\n",
            "Installing collected packages: kaggle\n",
            "  Attempting uninstall: kaggle\n",
            "    Found existing installation: kaggle 1.5.12\n",
            "    Uninstalling kaggle-1.5.12:\n",
            "      Successfully uninstalled kaggle-1.5.12\n",
            "Successfully installed kaggle-1.5.12\n",
            "Downloading challenges-in-representation-learning-facial-expression-recognition-challenge.zip to /content\n",
            " 98% 279M/285M [00:05<00:00, 69.1MB/s]\n",
            "100% 285M/285M [00:06<00:00, 47.6MB/s]\n"
          ]
        }
      ]
    },
    {
      "cell_type": "code",
      "source": [
        "! unzip challenges-in-representation-learning-facial-expression-recognition-challenge.zip"
      ],
      "metadata": {
        "id": "pxJyH4QwODm9",
        "colab": {
          "base_uri": "https://localhost:8080/"
        },
        "outputId": "230deb7a-9f6f-4d96-d9da-f7219eb5f073"
      },
      "execution_count": null,
      "outputs": [
        {
          "output_type": "stream",
          "name": "stdout",
          "text": [
            "Archive:  challenges-in-representation-learning-facial-expression-recognition-challenge.zip\n",
            "  inflating: example_submission.csv  \n",
            "  inflating: fer2013.tar.gz          \n",
            "  inflating: icml_face_data.csv      \n",
            "  inflating: test.csv                \n",
            "  inflating: train.csv               \n"
          ]
        }
      ]
    },
    {
      "cell_type": "code",
      "source": [
        "! tar -xzvf \"/content/fer2013.tar.gz\" "
      ],
      "metadata": {
        "colab": {
          "base_uri": "https://localhost:8080/"
        },
        "id": "YX4PXiEcNpco",
        "outputId": "86fd3847-2cc5-4e25-af86-f7d678d6c8ed"
      },
      "execution_count": null,
      "outputs": [
        {
          "output_type": "stream",
          "name": "stdout",
          "text": [
            "fer2013/fer2013.csv\n",
            "fer2013/README\n",
            "fer2013/fer2013.bib\n",
            "fer2013/\n"
          ]
        }
      ]
    },
    {
      "cell_type": "markdown",
      "source": [
        "# Task 1 :"
      ],
      "metadata": {
        "id": "goLxWepgEJGL"
      }
    },
    {
      "cell_type": "markdown",
      "source": [
        "\n",
        "## *Dataset : FER2013*\n",
        "\n",
        "##*Preparing selected dataset*\n",
        "\n",
        "####In the dataset, the following are given : \n",
        "*   *Training* : for training the model \n",
        "*   *PublicTest* : for validation\n",
        "\n",
        "#### It contains 3 columns, one for image, one for its corresponing emotion, and one for usage i.e, train or test.\n"
      ],
      "metadata": {
        "id": "guAAWtZMAn9B"
      }
    },
    {
      "cell_type": "code",
      "source": [
        "dataset = pd.read_csv('./fer2013/fer2013.csv')\n",
        "dataset.info()"
      ],
      "metadata": {
        "colab": {
          "base_uri": "https://localhost:8080/"
        },
        "id": "UDEfTTfR-tDs",
        "outputId": "9570b248-b4b0-43a3-94ec-89de0b543287"
      },
      "execution_count": null,
      "outputs": [
        {
          "output_type": "stream",
          "name": "stdout",
          "text": [
            "<class 'pandas.core.frame.DataFrame'>\n",
            "RangeIndex: 35887 entries, 0 to 35886\n",
            "Data columns (total 3 columns):\n",
            " #   Column   Non-Null Count  Dtype \n",
            "---  ------   --------------  ----- \n",
            " 0   emotion  35887 non-null  int64 \n",
            " 1   pixels   35887 non-null  object\n",
            " 2   Usage    35887 non-null  object\n",
            "dtypes: int64(1), object(2)\n",
            "memory usage: 841.2+ KB\n"
          ]
        }
      ]
    },
    {
      "cell_type": "markdown",
      "source": [
        "### The dataset contains \n",
        "\n",
        "* **28709** Training images\n",
        "* **3589** PublicTest images\n",
        "* **3589** PrivateTest images\n",
        "\n",
        "#### We are not using PrivateTest images as we do not have access to it."
      ],
      "metadata": {
        "id": "t6TDbg-1AxP9"
      }
    },
    {
      "cell_type": "markdown",
      "source": [
        "#### The Dataset is not completely balanced. The following image shows the value counts of each emotion.\n",
        "#### We have a lot of data on all the other emotions except *Disgust*. This might be due to the fact that, disgust is a difficult emotion to capture."
      ],
      "metadata": {
        "id": "gx2crJehA2f9"
      }
    },
    {
      "cell_type": "markdown",
      "source": [
        "![WhatsApp Image 2022-03-24 at 9.36.48 PM.jpeg](data:image/jpeg;base64,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)"
      ],
      "metadata": {
        "id": "KMZp7yieBHyT"
      }
    },
    {
      "cell_type": "markdown",
      "source": [
        "### The dataset is *relevant* to our paper in the following ways :\n",
        "\n",
        "\n",
        "* The dataset has more images compared to the 2 datasets used by the paper. (*CK+ and RAF-DB*) \n",
        "\n",
        "* The dataset has emotions similar to what is being used by the other 2 datasets used in the paper. \n",
        "\n"
      ],
      "metadata": {
        "id": "Tp2Ks20OBL1G"
      }
    },
    {
      "cell_type": "markdown",
      "source": [
        "![image.png](data:image/png;base64,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)\n",
        "---\n",
        "![image.png](data:image/png;base64,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)\n",
        "\n",
        "#### *Limitations*\n",
        "\n",
        "\n",
        "\n",
        "*   As we mentioned before, there are only 600 images for *disgust* whereas the other emotions have more than 5000 each. This might cause the model to not predict disgust emotion with a higher accuracy.\n",
        "\n",
        "##### This dataset is very popular and is widely used for facial expression recognition, thus there are not many limitations.\n",
        "\n"
      ],
      "metadata": {
        "id": "yJ_Hx7byBPoy"
      }
    },
    {
      "cell_type": "code",
      "source": [
        "dataset.Usage.value_counts()"
      ],
      "metadata": {
        "colab": {
          "base_uri": "https://localhost:8080/"
        },
        "id": "sm8BwvbCOxaw",
        "outputId": "2027c216-e90b-4e79-a04f-da561179be52"
      },
      "execution_count": null,
      "outputs": [
        {
          "output_type": "execute_result",
          "data": {
            "text/plain": [
              "Training       28709\n",
              "PublicTest      3589\n",
              "PrivateTest     3589\n",
              "Name: Usage, dtype: int64"
            ]
          },
          "metadata": {},
          "execution_count": 6
        }
      ]
    },
    {
      "cell_type": "code",
      "source": [
        "emotions = {\n",
        "    0: 'Angry', \n",
        "    1: 'Disgust', \n",
        "    2: 'Fear', \n",
        "    3: 'Happy', \n",
        "    4: 'Sad', \n",
        "    5: 'Surprise', \n",
        "    6: 'Neutral'\n",
        "}"
      ],
      "metadata": {
        "id": "0byd9Ik2ZXLv"
      },
      "execution_count": null,
      "outputs": []
    },
    {
      "cell_type": "code",
      "source": [
        "train_df = dataset[dataset['Usage']=='Training']\n",
        "valid_df = dataset[dataset['Usage']=='PublicTest']\n",
        "test_df = dataset[dataset['Usage']=='PrivateTest']\n",
        "print(train_df.head())\n",
        "print(valid_df.head(-1))"
      ],
      "metadata": {
        "colab": {
          "base_uri": "https://localhost:8080/"
        },
        "id": "0HZZq-rlNKGT",
        "outputId": "2852f432-fbe0-4e66-af87-c7238fec095e"
      },
      "execution_count": null,
      "outputs": [
        {
          "output_type": "stream",
          "name": "stdout",
          "text": [
            "   emotion                                             pixels     Usage\n",
            "0        0  70 80 82 72 58 58 60 63 54 58 60 48 89 115 121...  Training\n",
            "1        0  151 150 147 155 148 133 111 140 170 174 182 15...  Training\n",
            "2        2  231 212 156 164 174 138 161 173 182 200 106 38...  Training\n",
            "3        4  24 32 36 30 32 23 19 20 30 41 21 22 32 34 21 1...  Training\n",
            "4        6  4 0 0 0 0 0 0 0 0 0 0 0 3 15 23 28 48 50 58 84...  Training\n",
            "       emotion                                             pixels       Usage\n",
            "28709        0  254 254 254 254 254 249 255 160 2 58 53 70 77 ...  PublicTest\n",
            "28710        1  156 184 198 202 204 207 210 212 213 214 215 21...  PublicTest\n",
            "28711        4  69 118 61 60 96 121 103 87 103 88 70 90 115 12...  PublicTest\n",
            "28712        6  205 203 236 157 83 158 120 116 94 86 155 180 2...  PublicTest\n",
            "28713        3  87 79 74 66 74 96 77 80 80 84 83 89 102 91 84 ...  PublicTest\n",
            "...        ...                                                ...         ...\n",
            "32292        3  0 0 0 0 0 0 0 1 0 0 0 1 1 1 1 3 4 21 40 53 65 ...  PublicTest\n",
            "32293        4  178 176 172 173 173 174 176 173 166 166 206 22...  PublicTest\n",
            "32294        3  25 34 42 44 42 47 57 59 59 58 54 51 50 56 63 6...  PublicTest\n",
            "32295        4  255 255 255 255 255 255 255 255 255 255 255 25...  PublicTest\n",
            "32296        4  33 25 31 36 36 42 69 103 132 163 175 183 187 1...  PublicTest\n",
            "\n",
            "[3588 rows x 3 columns]\n"
          ]
        }
      ]
    },
    {
      "cell_type": "code",
      "source": [
        "valid_df = valid_df.reset_index(drop=True) \n",
        "test_df = test_df.reset_index(drop = True)\n",
        "print(test_df.head())\n",
        "print('   -----   -------    -------    --------     -----    -------')\n",
        "print(valid_df.head())"
      ],
      "metadata": {
        "colab": {
          "base_uri": "https://localhost:8080/"
        },
        "id": "6ehdqrwCNthp",
        "outputId": "9b8d33dc-4501-4a62-bf48-2016b70bda29"
      },
      "execution_count": null,
      "outputs": [
        {
          "output_type": "stream",
          "name": "stdout",
          "text": [
            "   emotion                                             pixels        Usage\n",
            "0        0  170 118 101 88 88 75 78 82 66 74 68 59 63 64 6...  PrivateTest\n",
            "1        5  7 5 8 6 7 3 2 6 5 4 4 5 7 5 5 5 6 7 7 7 10 10 ...  PrivateTest\n",
            "2        6  232 240 241 239 237 235 246 117 24 24 22 13 12...  PrivateTest\n",
            "3        4  200 197 149 139 156 89 111 58 62 95 113 117 11...  PrivateTest\n",
            "4        2  40 28 33 56 45 33 31 78 152 194 200 186 196 20...  PrivateTest\n",
            "   -----   -------    -------    --------     -----    -------\n",
            "   emotion                                             pixels       Usage\n",
            "0        0  254 254 254 254 254 249 255 160 2 58 53 70 77 ...  PublicTest\n",
            "1        1  156 184 198 202 204 207 210 212 213 214 215 21...  PublicTest\n",
            "2        4  69 118 61 60 96 121 103 87 103 88 70 90 115 12...  PublicTest\n",
            "3        6  205 203 236 157 83 158 120 116 94 86 155 180 2...  PublicTest\n",
            "4        3  87 79 74 66 74 96 77 80 80 84 83 89 102 91 84 ...  PublicTest\n"
          ]
        }
      ]
    },
    {
      "cell_type": "code",
      "source": [
        "pixels = []\n",
        "\n",
        "for pix in dataset.pixels:\n",
        "    values = [int(i) for i in pix.split()]\n",
        "    pixels.append(values)\n",
        "\n",
        "pixels = np.array(pixels)\n",
        "\n",
        "# rescaling pixel values\n",
        "pixels = pixels/255.0\n",
        "\n",
        "\n",
        "dataset.drop(columns=['pixels'], axis=1, inplace=True)\n",
        "\n",
        "pix_cols = [] # for keeping track of column names\n",
        "\n",
        "# add each pixel value as a column\n",
        "for i in range(pixels.shape[1]):\n",
        "    name = f'pixel_{i}'\n",
        "    pix_cols.append(name)\n",
        "    dataset[name] = pixels[:, i]"
      ],
      "metadata": {
        "id": "uvhBmHdoBSrI"
      },
      "execution_count": null,
      "outputs": []
    },
    {
      "cell_type": "markdown",
      "source": [
        "#### Checking how transformation works with our images"
      ],
      "metadata": {
        "id": "EweH75YGBc8M"
      }
    },
    {
      "cell_type": "code",
      "source": [
        "def show_example(df, num):\n",
        "    print('expression: ' ,df.iloc[num] )\n",
        "    image = np.array([[int(i) for i in x.split()] for x in df.loc[num, ['pixels']]])\n",
        "    print(image.shape)\n",
        "    image = image.reshape(48,48)\n",
        "    plt.imshow(image, interpolation='nearest', cmap='gray')\n",
        "    plt.show()\n",
        "    return image"
      ],
      "metadata": {
        "id": "-ymwgLB2NtdV"
      },
      "execution_count": null,
      "outputs": []
    },
    {
      "cell_type": "code",
      "source": [
        "i = show_example(train_df, 107)\n"
      ],
      "metadata": {
        "colab": {
          "base_uri": "https://localhost:8080/",
          "height": 349
        },
        "id": "ozDedDEBNtZR",
        "outputId": "03555efa-b24c-44c6-cd8d-3971a8385bc1"
      },
      "execution_count": null,
      "outputs": [
        {
          "output_type": "stream",
          "name": "stdout",
          "text": [
            "expression:  emotion                                                    0\n",
            "pixels     179 175 176 170 149 136 129 118 105 91 87 81 7...\n",
            "Usage                                               Training\n",
            "Name: 107, dtype: object\n",
            "(1, 2304)\n"
          ]
        },
        {
          "output_type": "display_data",
          "data": {
            "text/plain": [
              "<Figure size 432x288 with 1 Axes>"
            ],
            "image/png": "[encoded data removed]"
          },
          "metadata": {
            "needs_background": "light"
          }
        }
      ]
    },
    {
      "cell_type": "code",
      "source": [
        "i = i.astype(np.uint8)"
      ],
      "metadata": {
        "id": "NBHfdXglNtUR"
      },
      "execution_count": null,
      "outputs": []
    },
    {
      "cell_type": "code",
      "source": [
        "transform = T.Compose([T.ToPILImage(),T.RandomHorizontalFlip(p=0.9), T.RandomRotation([-30,-30])])\n",
        "tensor_img = transform(i)\n",
        "plt.imshow(tensor_img, interpolation='nearest', cmap='gray')\n",
        "plt.show()"
      ],
      "metadata": {
        "id": "x3Ox4jReNtNX",
        "colab": {
          "base_uri": "https://localhost:8080/",
          "height": 264
        },
        "outputId": "7f1dd5c5-3395-4a01-c746-02d987ce6e8b"
      },
      "execution_count": null,
      "outputs": [
        {
          "output_type": "display_data",
          "data": {
            "text/plain": [
              "<Figure size 432x288 with 1 Axes>"
            ],
            "image/png": "[encoded data removed]"
          },
          "metadata": {
            "needs_background": "light"
          }
        }
      ]
    },
    {
      "cell_type": "markdown",
      "source": [
        "### Data Preprocessing"
      ],
      "metadata": {
        "id": "LyuGCrPTBlMR"
      }
    },
    {
      "cell_type": "markdown",
      "source": [
        "Class to return a dataset object"
      ],
      "metadata": {
        "id": "oi_VswLiBqoX"
      }
    },
    {
      "cell_type": "code",
      "source": [
        "class FERDataset(Dataset):\n",
        "    '''\n",
        "        Parse raw data to form a Dataset of (X, y).\n",
        "    '''\n",
        "    def __init__(self, df, transform=None):\n",
        "        self.df = df\n",
        "        self.transform = transform\n",
        "        self.tensor_transform = T.ToTensor()\n",
        "        \n",
        "    def __len__(self):\n",
        "        return len(self.df)\n",
        "    \n",
        "    def __getitem__(self, idx):\n",
        "        row = self.df.iloc[idx]\n",
        "        img_id = int(row['emotion'])\n",
        "        img = np.copy(row[pix_cols].values.reshape(48, 48))\n",
        "        img.setflags(write=True)\n",
        "\n",
        "        if self.transform:\n",
        "            img = Image.fromarray(img)\n",
        "            img = self.transform(img)\n",
        "        else:\n",
        "            img = self.tensor_transform(img)\n",
        "\n",
        "        return img, img_id"
      ],
      "metadata": {
        "id": "gDHJNPM0r0Ga"
      },
      "execution_count": null,
      "outputs": []
    },
    {
      "cell_type": "markdown",
      "source": [
        "Function to transform the images according to the paper.\n",
        "\n",
        "*   Rotating the image at angles [-15, -10, -5, 0, 5, 10, 15]\n",
        "*   Horizontal Flip\n"
      ],
      "metadata": {
        "id": "ZCJC29GgB1Us"
      }
    },
    {
      "cell_type": "code",
      "source": [
        "def image_transformations(angle) -> (object, object):\n",
        "    '''\n",
        "        Return transformations to be applied.\n",
        "        Input:\n",
        "            None\n",
        "        Output:\n",
        "            train_tfms: transformations to be applied on the training set\n",
        "            valid_tfms: transformations to be applied on the validation or test set\n",
        "    '''\n",
        "\n",
        "    train_trans = [      \n",
        "        T.RandomCrop(48, padding=4, padding_mode='reflect'),     \n",
        "        T.RandomRotation([angle,angle]),\n",
        "        T.RandomAffine(\n",
        "            degrees=0,\n",
        "            translate=(0.01, 0.12),\n",
        "            shear=(0.01, 0.03),\n",
        "        ),\n",
        "        T.RandomHorizontalFlip(p=1),\n",
        "        T.ToTensor(),\n",
        "    ]\n",
        "\n",
        "    val_trans = [\n",
        "        T.ToTensor(), \n",
        "    ]\n",
        "\n",
        "    train_transformations = T.Compose(train_trans)\n",
        "    valid_tfms = T.Compose(val_trans)\n",
        "\n",
        "    return train_transformations, valid_tfms"
      ],
      "metadata": {
        "id": "Yvp7XnA9zXCL"
      },
      "execution_count": null,
      "outputs": []
    },
    {
      "cell_type": "markdown",
      "source": [
        "Function to get the training dataset from the whole dataset (Training and Validation)"
      ],
      "metadata": {
        "id": "4vxlVGBFCGfM"
      }
    },
    {
      "cell_type": "code",
      "source": [
        "def get_train_dataset(dataframe: object,ang , transformation: bool=True) -> (object, object):\n",
        "    '''\n",
        "        Returns an object on FERDataset class\n",
        "        Input:\n",
        "            dataframe: object -> DataFrame object containing the whole data\n",
        "            transformation: bool [optional] ->  Apply transformations\n",
        "    '''\n",
        "\n",
        "    # extracts rows specific to Training, PublicTest\n",
        "    dataframe = dataframe.loc[dataframe.Usage.isin(['Training', 'PublicTest'])]\n",
        "    # drop Usage column as it's no longer needed    \n",
        "    dataframe = dataframe.drop('Usage', axis=1)\n",
        "\n",
        "    # split dataset into training and validation set\n",
        "    np.random.seed(42)  \n",
        "    msk = np.random.rand(len(dataframe)) < 0.8\n",
        "\n",
        "    train_df = dataframe[msk].reset_index()\n",
        "    val_df = dataframe[~msk].reset_index()\n",
        "\n",
        "    # get transformations\n",
        "    if transformation:\n",
        "        train_tfms, valid_tfms = image_transformations(ang)\n",
        "    else:\n",
        "        train_tfms, valid_tfms = None, None\n",
        "    \n",
        "    # fetch dataset\n",
        "    train_ds = FERDataset(dataframe, transform=train_tfms)\n",
        "    val_ds = FERDataset(dataframe, transform=valid_tfms)\n",
        "    print(train_ds[0])\n",
        "    return train_ds, val_ds"
      ],
      "metadata": {
        "id": "OcfBHQ1yXv9i"
      },
      "execution_count": null,
      "outputs": []
    },
    {
      "cell_type": "markdown",
      "source": [
        "Function to get Dataloader from the dataset (Using angles from -15 to +15 in multiples of 5 and concatenating the datasets)"
      ],
      "metadata": {
        "id": "-QrAzRY4CMoX"
      }
    },
    {
      "cell_type": "code",
      "source": [
        "def get_train_dataloader(dataframe: object, transformation=True, batch_size: int=16) -> (object, object):\n",
        "    '''\n",
        "        Returns train and test dataloaders.\n",
        "        Input:\n",
        "            dataframe: dataset DataFrame object\n",
        "            batch_size: [optional] int\n",
        "        Output:\n",
        "            train_dl: train dataloader object\n",
        "            valid_dl: validation dataloader object\n",
        "    '''\n",
        "    # fetech train and validation dataset\n",
        "    train_ds, valid_ds = get_train_dataset(dataframe, -15, transformation=transformation)\n",
        "    for i in range(-2, 4):\n",
        "      t, _ = get_train_dataset(dataframe, 5*i, transformation=transformation)\n",
        "      train_ds = ConcatDataset([train_ds,t])\n",
        "    print(len(train_ds))\n",
        "    train_dl = DataLoader(train_ds, batch_size, shuffle=True, \n",
        "                     num_workers=3, pin_memory=True)\n",
        "    valid_dl = DataLoader(valid_ds, batch_size*2, \n",
        "                    num_workers=2, pin_memory=True)\n",
        "    \n",
        "    return train_dl, valid_dl"
      ],
      "metadata": {
        "id": "TDHu-sDmsHRq"
      },
      "execution_count": null,
      "outputs": []
    },
    {
      "cell_type": "markdown",
      "source": [
        "***NOT USED NOW***\n",
        "\n",
        "Funtion to get the Test Dataloader"
      ],
      "metadata": {
        "id": "ewDVR6WGCQWI"
      }
    },
    {
      "cell_type": "code",
      "source": [
        "def get_test_dataloader(dataframe: object, batch_size: int=128) -> object:\n",
        "    '''\n",
        "        Returns test set dataloaders.\n",
        "        Input:\n",
        "            dataframe: dataset DataFrame object\n",
        "            batch_size: [optional] int\n",
        "        Output:\n",
        "            test_dl: test dataloader object\n",
        "    '''\n",
        "    # extracts rows specific to PrivateTest\n",
        "    test_df = dataframe.loc[dataset.Usage.isin(['PrivateTest'])]\n",
        "\n",
        "    # drop Usage column as it's no longer needed\n",
        "    test_df = test_df.drop('Usage', axis=1)\n",
        "\n",
        "    # get transformations same as validation set\n",
        "    _, valid_tfms = image_transformations()\n",
        "    \n",
        "    test_dataset = FERDataset(test_df, transform=valid_tfms)\n",
        "    test_dl = DataLoader(test_dataset, batch_size, num_workers=3 , pin_memory=True)\n",
        "\n",
        "    # move loader to GPU (class defined ahead)\n",
        "    test_dl = DeviceDataLoader(test_dl, device)\n",
        "    return test_dl"
      ],
      "metadata": {
        "id": "bfemkdyrsIEf"
      },
      "execution_count": null,
      "outputs": []
    },
    {
      "cell_type": "markdown",
      "source": [
        "### Testing and counting the dataset (DO NOT RUN, USES TOO MUCH RAM)"
      ],
      "metadata": {
        "id": "k3Ql6i9XCTqy"
      }
    },
    {
      "cell_type": "code",
      "source": [
        "\n",
        "train_dl, valid_dl = get_train_dataloader(dataset, batch_size=512)"
      ],
      "metadata": {
        "colab": {
          "base_uri": "https://localhost:8080/"
        },
        "id": "k1hOjdK6tMVW",
        "outputId": "4bb437dc-7716-42bf-c1ae-0914f68748aa"
      },
      "execution_count": null,
      "outputs": [
        {
          "output_type": "stream",
          "name": "stdout",
          "text": [
            "(tensor([[[0.0000, 0.0000, 0.0000,  ..., 0.0000, 0.0000, 0.0000],\n",
            "         [0.0000, 0.0000, 0.0000,  ..., 0.0000, 0.0000, 0.0000],\n",
            "         [0.1647, 0.2000, 0.2314,  ..., 0.0000, 0.0000, 0.0000],\n",
            "         ...,\n",
            "         [0.0000, 0.0000, 0.0000,  ..., 0.0000, 0.0000, 0.0000],\n",
            "         [0.0000, 0.0000, 0.0000,  ..., 0.0000, 0.0000, 0.0000],\n",
            "         [0.0000, 0.0000, 0.0000,  ..., 0.0000, 0.0000, 0.0000]]]), 0)\n",
            "(tensor([[[0.2314, 0.2275, 0.2706,  ..., 0.0000, 0.0000, 0.0000],\n",
            "         [0.2392, 0.2157, 0.3608,  ..., 0.0000, 0.0000, 0.0000],\n",
            "         [0.2078, 0.2431, 0.2706,  ..., 0.0000, 0.0000, 0.0000],\n",
            "         ...,\n",
            "         [0.0000, 0.0000, 0.0000,  ..., 0.0000, 0.0000, 0.0000],\n",
            "         [0.0000, 0.0000, 0.0000,  ..., 0.0000, 0.0000, 0.0000],\n",
            "         [0.0000, 0.0000, 0.0000,  ..., 0.0000, 0.0000, 0.0000]]]), 0)\n",
            "(tensor([[[0.2392, 0.2235, 0.2196,  ..., 0.1373, 0.0000, 0.0000],\n",
            "         [0.2118, 0.2275, 0.2157,  ..., 0.1137, 0.0000, 0.0000],\n",
            "         [0.1608, 0.2000, 0.2118,  ..., 0.0941, 0.1373, 0.0000],\n",
            "         ...,\n",
            "         [0.0000, 0.0000, 0.0000,  ..., 0.0000, 0.0000, 0.0000],\n",
            "         [0.0000, 0.0000, 0.0000,  ..., 0.0000, 0.0000, 0.0000],\n",
            "         [0.0000, 0.0000, 0.0000,  ..., 0.0000, 0.0000, 0.0000]]]), 0)\n",
            "(tensor([[[0.0000, 0.0000, 0.0000,  ..., 0.0000, 0.0000, 0.0000],\n",
            "         [0.1451, 0.1647, 0.2000,  ..., 0.1725, 0.2471, 0.2157],\n",
            "         [0.1686, 0.1647, 0.2000,  ..., 0.1373, 0.1412, 0.1176],\n",
            "         ...,\n",
            "         [0.3725, 0.4549, 0.4157,  ..., 0.2824, 0.3294, 0.3412],\n",
            "         [0.3961, 0.3451, 0.3961,  ..., 0.3216, 0.3098, 0.2745],\n",
            "         [0.3882, 0.3961, 0.3020,  ..., 0.2549, 0.1647, 0.1451]]]), 0)\n",
            "(tensor([[[0.0000, 0.0000, 0.0000,  ..., 0.0000, 0.0000, 0.0000],\n",
            "         [0.0000, 0.0000, 0.0000,  ..., 0.0000, 0.0000, 0.0000],\n",
            "         [0.0000, 0.0000, 0.0000,  ..., 0.0000, 0.0000, 0.0000],\n",
            "         ...,\n",
            "         [0.3725, 0.3098, 0.2824,  ..., 0.3765, 0.4118, 0.0000],\n",
            "         [0.2627, 0.2157, 0.1686,  ..., 0.3608, 0.0000, 0.0000],\n",
            "         [0.2118, 0.1882, 0.2275,  ..., 0.3294, 0.0000, 0.0000]]]), 0)\n",
            "(tensor([[[0.0000, 0.0000, 0.0000,  ..., 0.0000, 0.0000, 0.0000],\n",
            "         [0.0000, 0.0000, 0.0000,  ..., 0.0000, 0.0000, 0.0000],\n",
            "         [0.0000, 0.0000, 0.0000,  ..., 0.0000, 0.0000, 0.0000],\n",
            "         ...,\n",
            "         [0.3216, 0.4275, 0.4118,  ..., 0.0000, 0.0000, 0.0000],\n",
            "         [0.2745, 0.4118, 0.3725,  ..., 0.0000, 0.0000, 0.0000],\n",
            "         [0.2196, 0.2824, 0.3961,  ..., 0.0000, 0.0000, 0.0000]]]), 0)\n",
            "(tensor([[[0., 0., 0.,  ..., 0., 0., 0.],\n",
            "         [0., 0., 0.,  ..., 0., 0., 0.],\n",
            "         [0., 0., 0.,  ..., 0., 0., 0.],\n",
            "         ...,\n",
            "         [0., 0., 0.,  ..., 0., 0., 0.],\n",
            "         [0., 0., 0.,  ..., 0., 0., 0.],\n",
            "         [0., 0., 0.,  ..., 0., 0., 0.]]]), 0)\n",
            "226086\n"
          ]
        }
      ]
    },
    {
      "cell_type": "code",
      "source": [
        "print(len(train_dl))"
      ],
      "metadata": {
        "id": "jclg1LvnEnDH",
        "outputId": "57ceb438-ddf0-4d24-f4b9-f4f3098f2cad",
        "colab": {
          "base_uri": "https://localhost:8080/",
          "height": 163
        }
      },
      "execution_count": null,
      "outputs": [
        {
          "output_type": "error",
          "ename": "NameError",
          "evalue": "ignored",
          "traceback": [
            "\u001b[0;31m---------------------------------------------------------------------------\u001b[0m",
            "\u001b[0;31mNameError\u001b[0m                                 Traceback (most recent call last)",
            "\u001b[0;32m<ipython-input-2-f93bef20e0e8>\u001b[0m in \u001b[0;36m<module>\u001b[0;34m()\u001b[0m\n\u001b[0;32m----> 1\u001b[0;31m \u001b[0mprint\u001b[0m\u001b[0;34m(\u001b[0m\u001b[0mlen\u001b[0m\u001b[0;34m(\u001b[0m\u001b[0mtrain_dl\u001b[0m\u001b[0;34m)\u001b[0m\u001b[0;34m)\u001b[0m\u001b[0;34m\u001b[0m\u001b[0;34m\u001b[0m\u001b[0m\n\u001b[0m",
            "\u001b[0;31mNameError\u001b[0m: name 'train_dl' is not defined"
          ]
        }
      ]
    },
    {
      "cell_type": "markdown",
      "source": [
        "\n",
        "\n",
        "\n",
        "\n",
        "```\n",
        "# This is formatted as code\n",
        "\n",
        "for images, _ in train_dl:\n",
        "    print('images.shape:', images.shape)\n",
        "    plt.figure(figsize=(16, 8))\n",
        "    plt.axis(\"off\")\n",
        "    plt.imshow(make_grid(images, nrow=32).permute((1, 2, 0))) # move the channel dimension\n",
        "    break\n",
        "\n",
        "_ = plt.suptitle(\"Transformed Images\", y=0.92, fontsize=16)\n",
        "```\n",
        "\n"
      ],
      "metadata": {
        "id": "Px8W2Av9tPlP"
      }
    },
    {
      "cell_type": "markdown",
      "source": [
        "# Task 2 :"
      ],
      "metadata": {
        "id": "D2ryB8nmEVS3"
      }
    },
    {
      "cell_type": "markdown",
      "source": [
        "### MODEL"
      ],
      "metadata": {
        "id": "HVtury9XCgII"
      }
    },
    {
      "cell_type": "markdown",
      "source": [
        "Changing device to CUDA"
      ],
      "metadata": {
        "id": "vZi2XO9mClKI"
      }
    },
    {
      "cell_type": "code",
      "source": [
        "def get_default_device():\n",
        "    \"\"\"Pick GPU if available, else CPU\"\"\"\n",
        "    if torch.cuda.is_available():\n",
        "        return torch.device('cuda')\n",
        "    else:\n",
        "        return torch.device('cpu')\n",
        "    \n",
        "def to_device(data, device):\n",
        "    \"\"\"Move tensor(s) to chosen device\"\"\"\n",
        "    if isinstance(data, (list,tuple)):\n",
        "        return [to_device(x, device) for x in data]\n",
        "    return data.to(device, non_blocking=True)\n",
        "\n",
        "class DeviceDataLoader():\n",
        "    \"\"\"Wrap a dataloader to move data to a device\"\"\"\n",
        "    def __init__(self, dl, device):\n",
        "        self.dl = dl\n",
        "        self.device = device\n",
        "        \n",
        "    def __iter__(self):\n",
        "        \"\"\"Yield a batch of data after moving it to device\"\"\"\n",
        "        for b in self.dl: \n",
        "            yield to_device(b, self.device)\n",
        "\n",
        "    def __len__(self):\n",
        "        \"\"\"Number of batches\"\"\"\n",
        "        return len(self.dl)"
      ],
      "metadata": {
        "id": "o4Z2QtetA4ed"
      },
      "execution_count": null,
      "outputs": []
    },
    {
      "cell_type": "code",
      "source": [
        "device = get_default_device()\n",
        "device"
      ],
      "metadata": {
        "colab": {
          "base_uri": "https://localhost:8080/"
        },
        "id": "VWUv4spkA6Oq",
        "outputId": "12c0bb8e-5fac-4221-c8c4-be1b317a5b87"
      },
      "execution_count": null,
      "outputs": [
        {
          "output_type": "execute_result",
          "data": {
            "text/plain": [
              "device(type='cuda')"
            ]
          },
          "metadata": {},
          "execution_count": 35
        }
      ]
    },
    {
      "cell_type": "markdown",
      "source": [
        "Base ImageClassifation class"
      ],
      "metadata": {
        "id": "l23ovQsDCqgi"
      }
    },
    {
      "cell_type": "code",
      "source": [
        "class ImageClassificationBase(nn.Module):\n",
        "    def training_step(self, batch):\n",
        "        inputs, labels = batch\n",
        "        outputs = self(inputs)\n",
        "        loss = F.cross_entropy(outputs, labels)\n",
        "        acc = accuracy(outputs, labels)\n",
        "        return {'loss': loss, 'acc': acc.detach()}\n",
        "    \n",
        "    def validation_step(self, batch):\n",
        "        images, labels = batch \n",
        "        out = self(images)                          # Generate predictions\n",
        "        loss = F.cross_entropy(out, labels)         # Calculate loss\n",
        "        acc = accuracy(out, labels)                 # Calculate accuracy\n",
        "        return {'val_loss': loss.detach(), 'val_acc': acc.detach()}\n",
        "        \n",
        "    def get_metrics_epoch_end(self, outputs, validation=True):\n",
        "        if validation:\n",
        "            loss_ = 'val_loss'\n",
        "            acc_ = 'val_acc'\n",
        "        else:\n",
        "            loss_ = 'loss'\n",
        "            acc_ = 'acc'\n",
        "\n",
        "        batch_losses = [x[f'{loss_}'] for x in outputs]\n",
        "        epoch_loss = torch.stack(batch_losses).mean()   \n",
        "        batch_accs = [x[f'{acc_}'] for x in outputs]\n",
        "        epoch_acc = torch.stack(batch_accs).mean()      \n",
        "        return {f'{loss_}': epoch_loss.detach().item(), f'{acc_}': epoch_acc.detach().item()}\n",
        "    \n",
        "    def epoch_end(self, epoch, result, num_epochs):\n",
        "        print(f\"Epoch: {epoch+1}/{num_epochs} -> lr: {result['lrs'][-1]:.5f} loss: {result['loss']:.4f}, acc: {result['acc']:.4f}, val_loss: {result['val_loss']:.4f}, val_acc: {result['val_acc']:.4f}\\n\")"
      ],
      "metadata": {
        "id": "dCUvewctAtq3"
      },
      "execution_count": null,
      "outputs": []
    },
    {
      "cell_type": "code",
      "source": [
        "def accuracy(outputs, labels):\n",
        "    _, preds = torch.max(outputs, dim=1)\n",
        "    return torch.tensor(torch.sum(preds == labels).item() / len(preds))"
      ],
      "metadata": {
        "id": "T4k6YVWJAple"
      },
      "execution_count": null,
      "outputs": []
    },
    {
      "cell_type": "markdown",
      "source": [
        "Simple model design\n"
      ],
      "metadata": {
        "id": "WxeSFPUkC4yQ"
      }
    },
    {
      "cell_type": "code",
      "source": [
        "def conv_block(in_channels, out_channels, pool=False):\n",
        "    layers = [nn.Conv2d(in_channels, out_channels, kernel_size=3, padding=1), \n",
        "              nn.BatchNorm2d(out_channels), \n",
        "              nn.ReLU(inplace=True)]\n",
        "    if pool: layers.append(nn.MaxPool2d(2))\n",
        "    return nn.Sequential(*layers)\n",
        "\n",
        "class EmotionRecognition(ImageClassificationBase):\n",
        "    def __init__(self):\n",
        "        super().__init__()\n",
        "        self.network = nn.Sequential(\n",
        "            nn.Conv2d(1, 16, kernel_size=3, padding=1),\n",
        "            nn.ReLU(),\n",
        "            nn.Conv2d(16, 32, kernel_size=3, stride=1, padding=1),\n",
        "            nn.ReLU(),\n",
        "            nn.BatchNorm2d(32),\n",
        "            nn.MaxPool2d(2, 2), # output: 16 x 24 x 24\n",
        "\n",
        "            nn.Conv2d(32, 64, kernel_size=3, stride=1, padding=1),\n",
        "            nn.ReLU(),\n",
        "            nn.Conv2d(64, 64, kernel_size=3, stride=1, padding=1),\n",
        "            nn.ReLU(),\n",
        "            nn.BatchNorm2d(64),\n",
        "            nn.MaxPool2d(2, 2), # output: 64 x 12 x 12\n",
        "\n",
        "            nn.Conv2d(64, 128, kernel_size=3, stride=1, padding=1),\n",
        "            nn.ReLU(),\n",
        "            nn.Conv2d(128, 128, kernel_size=3, stride=1, padding=1),\n",
        "            nn.ReLU(),\n",
        "            nn.BatchNorm2d(128),\n",
        "            nn.MaxPool2d(2, 2), # output: 128 x 6 x 6\n",
        "\n",
        "            nn.Flatten(), \n",
        "            nn.Linear(128*6*6, 1024),\n",
        "            nn.ReLU(),\n",
        "            nn.Dropout(0.3),\n",
        "            nn.Linear(1024, 512),\n",
        "            nn.ReLU(),\n",
        "            nn.Dropout(0.4),\n",
        "            nn.Linear(512, 7))\n",
        "        \n",
        "    def forward(self, xb):\n",
        "        return self.network(xb)\n",
        "\n",
        "    def __repr__(self):\n",
        "        return f\"{self.network}\"\n",
        "    \n",
        "    def __str__(self):\n",
        "        summary(self.network, (1, 48, 48))"
      ],
      "metadata": {
        "id": "Ft6KhbQRRMtU"
      },
      "execution_count": null,
      "outputs": []
    },
    {
      "cell_type": "code",
      "source": [
        "models = {\n",
        "    'EmotionRecognition': EmotionRecognition(),\n",
        "}"
      ],
      "metadata": {
        "id": "N14n_sJBRO9M"
      },
      "execution_count": null,
      "outputs": []
    },
    {
      "cell_type": "markdown",
      "source": [
        "Code to evaluate and validate the model"
      ],
      "metadata": {
        "id": "L2otEAktDFlZ"
      }
    },
    {
      "cell_type": "code",
      "source": [
        "@torch.no_grad()\n",
        "def evaluate(model: object, val_loader: object) -> dict:\n",
        "    '''\n",
        "        Evaluate model on the validation set\n",
        "        Input:\n",
        "            model: training model object\n",
        "            val_loder: validation data loader object\n",
        "        Output:\n",
        "            validation metrics\n",
        "    '''\n",
        "\n",
        "    model.eval()\n",
        "    outputs = [model.validation_step(batch) for batch in val_loader]\n",
        "    return model.get_metrics_epoch_end(outputs=outputs, validation=True)\n",
        "\n",
        "\n",
        "def get_lr(optimizer: object) -> float:\n",
        "    ''' Returns current learning rate'''\n",
        "\n",
        "    for param_group in optimizer.param_groups:\n",
        "        return param_group['lr']\n",
        "\n",
        "\n",
        "def fit_model(model_name: str,\n",
        "              model: object, \n",
        "              epochs: int, \n",
        "              max_lr: float, \n",
        "              train_loader: object, \n",
        "              val_loader: object,\n",
        "              weight_decay: float=0, \n",
        "              grad_clip: float=None, \n",
        "              opt_func: object=torch.optim.SGD):\n",
        "    '''\n",
        "        This function is responsible for training our model.\n",
        "        We use a One Cycle learning rate policy to update our learning rate \n",
        "        with each epoch.\n",
        "        The best model is saved during each epoch.\n",
        "        Input:\n",
        "            model_name: str \n",
        "            model: object\n",
        "            epochs: int -> Max epochs\n",
        "            max_lr: float -> Maximum allowed learning rate during learning\n",
        "            train_loader: training set data loader\n",
        "            val_loader: validation set data loader\n",
        "            weight_decay: float -> value to decrease weights during training of each batch\n",
        "            grad_clip: float -> maximum allowed gradient value\n",
        "            opt_func: optimzer object\n",
        "        Output:\n",
        "            history: list of metrics\n",
        "    '''\n",
        "\n",
        "    torch.cuda.empty_cache()\n",
        "    BEST_VAL_SCORE = 0.0 # for keeping track of best model score\n",
        "    history = []\n",
        "\n",
        "    optimizer = opt_func(model.parameters(), max_lr, weight_decay=weight_decay)\n",
        "    scheduler = torch.optim.lr_scheduler.OneCycleLR(optimizer=optimizer, max_lr=max_lr,\n",
        "                                                    epochs=epochs, \n",
        "                                                    steps_per_epoch=len(train_loader))\n",
        "\n",
        "    for epoch in range(epochs):\n",
        "        train_history = []\n",
        "        lrs = []\n",
        "\n",
        "        # Training Phase \n",
        "        model.train()\n",
        "        for batch in tqdm(train_loader, ascii=True, desc=f'Epoch: {epoch+1}/{epochs}'):\n",
        "            info = model.training_step(batch)\n",
        "            loss = info['loss']\n",
        "            # contains batch loss and acc for training phase\n",
        "            train_history.append(info)\n",
        "            loss.backward()\n",
        "\n",
        "            # Gradient clipping\n",
        "            if grad_clip:\n",
        "                nn.utils.clip_grad_value_(model.parameters(), grad_clip)\n",
        "\n",
        "            optimizer.step()\n",
        "            optimizer.zero_grad()\n",
        "\n",
        "            lrs.append(get_lr(optimizer))\n",
        "            scheduler.step()\n",
        "\n",
        "\n",
        "        train_result = model.get_metrics_epoch_end(train_history, validation=False)\n",
        "        val_result = evaluate(model, val_loader)\n",
        "        result = {**train_result, **val_result}\n",
        "        result['lrs'] = lrs\n",
        "        model.epoch_end(epoch, result, epochs)\n",
        "\n",
        "        # Save the best model\n",
        "        if result['val_acc'] > BEST_VAL_SCORE:\n",
        "            BEST_VAL_SCORE = result['val_acc']\n",
        "            save_name = f\"{model_name}_epoch-{epoch+1}_score-{round(result['val_acc'], 4)}.pth\"\n",
        "            !rm -f '{model_name}'_*\n",
        "            torch.save(model.state_dict(), save_name)\n",
        "\n",
        "        history.append(result)\n",
        "    return history"
      ],
      "metadata": {
        "id": "RUHQrQOuRsyg"
      },
      "execution_count": null,
      "outputs": []
    },
    {
      "cell_type": "code",
      "source": [
        "def load_best(model_name: str) -> object:\n",
        "    '''Returns the best model'''\n",
        "\n",
        "    # get model defintion\n",
        "    best_model = models[model_name]\n",
        "\n",
        "    # load trained weights\n",
        "    path = r\"./\"\n",
        "    file_path = ''\n",
        "    \n",
        "    for i in os.listdir(path):\n",
        "        if os.path.isfile(os.path.join(path,i)) and i.startswith(f'{model_name}'):\n",
        "            file_path = os.path.join(path, i)\n",
        "            \n",
        "    print(f\"Loaded model: {file_path[2:]} weights.\")\n",
        "    best_model.load_state_dict(torch.load(file_path))\n",
        "\n",
        "    # move model to gpu\n",
        "    best_model = to_device(best_model, device)\n",
        "    return best_model   \n",
        "\n",
        "#### We aren't predicting right now so we didn't use this function\n",
        "\n",
        "# @torch.no_grad()\n",
        "# def generate_prediction(model_name: str) -> None:\n",
        "#     '''Generate prediction on the test set'''\n",
        "\n",
        "#     # load test dataset\n",
        "#     test_dl = get_test_dataloader(dataset)\n",
        "    \n",
        "#     # load model\n",
        "#     model = load_best(model_name)\n",
        "\n",
        "#     # clear cuda cache\n",
        "#     torch.cuda.empty_cache()\n",
        "\n",
        "#     # generate prediction using the validation step method defined in Base class\n",
        "#     with torch.no_grad():\n",
        "#         model.eval()\n",
        "#         outputs = [model.validation_step(batch) for batch in test_dl]\n",
        "#         metrics = model.get_metrics_epoch_end(outputs=outputs, validation=True)\n",
        "\n",
        "#     print(f\"Test Scores:\\n Loss: {round(metrics['val_loss'], 3)}, Accuracy: {round(metrics['val_acc'], 3)}\")"
      ],
      "metadata": {
        "id": "ZmXJsAVpR8mT"
      },
      "execution_count": null,
      "outputs": []
    },
    {
      "cell_type": "code",
      "source": [
        "def end_to_end(model_name: str, parameters: dict=None) -> dict:\n",
        "    '''\n",
        "        A simple function end-to-end training and testing on the selected model.\n",
        "        Inputs:\n",
        "            model_name: str -> chosen model name\n",
        "            parameters: dict -> dictionary of hyperparameters for the model\n",
        "        Outputs:\n",
        "            history: dict -> dictionary containing model metrics(loss, score, lr)\n",
        "\n",
        "    '''\n",
        "    torch.cuda.empty_cache()\n",
        "\n",
        "    # hyperparameters\n",
        "    BATCH_SIZE = 512 # batch_sizes[model_name]\n",
        "    epochs = parameters[\"epochs\"]\n",
        "    max_lr = parameters[\"max_lr\"]\n",
        "    weight_decay = parameters[\"weight_decay\"]\n",
        "    grad_clip = parameters[\"grad_clip\"]\n",
        "    opt_func = parameters[\"opt_func\"]\n",
        "\n",
        "    # get transformed dataset\n",
        "    train_dl, valid_dl = get_train_dataloader(dataset, batch_size=BATCH_SIZE)\n",
        "    # move dataset to use GPU\n",
        "    train_dl = DeviceDataLoader(train_dl, device)\n",
        "    valid_dl = DeviceDataLoader(valid_dl, device)\n",
        "\n",
        "    # get model\n",
        "    model = models[model_name]\n",
        "\n",
        "    # move model to GPU\n",
        "    model = to_device(model, device)\n",
        "    \n",
        "    # train model\n",
        "    history = fit_model(\n",
        "                model_name,\n",
        "                model, \n",
        "                epochs, \n",
        "                max_lr, \n",
        "                train_dl, \n",
        "                valid_dl,\n",
        "                weight_decay, \n",
        "                grad_clip, \n",
        "                opt_func\n",
        "            )\n",
        "\n",
        "    # cleaning\n",
        "    torch.cuda.empty_cache()\n",
        "\n",
        "    # generate predictions\n",
        "    # print(\"Genearating predictions on the Test set\")\n",
        "    # generate_prediction(model_name)\n",
        "    return history"
      ],
      "metadata": {
        "id": "y8ronVq8YYOQ"
      },
      "execution_count": null,
      "outputs": []
    },
    {
      "cell_type": "markdown",
      "source": [
        "Code to plot the graphs"
      ],
      "metadata": {
        "id": "iaHm0crWDb_I"
      }
    },
    {
      "cell_type": "code",
      "source": [
        "\n",
        "def plot_accuracies(history):\n",
        "    train_acc = [r['acc'] for r in history]\n",
        "    val_acc = [r['val_acc'] for r in history]\n",
        "    plt.plot(train_acc, '-kx', label=\"train_acc\")\n",
        "    plt.plot(val_acc, '-rx', label=\"val_acc\")\n",
        "    plt.legend()\n",
        "    _ = plt.xticks(ticks=range(len(train_acc)), \n",
        "                   labels=[str(i) for i in range(1, len(train_acc)+1)])\n",
        "    plt.xlabel('epoch')\n",
        "    plt.ylabel('Accuracy')\n",
        "    plt.title('Accuracy vs. epochs')\n",
        "\n",
        "def plot_losses(history):\n",
        "    train_losses = [r['loss'] for r in history]\n",
        "    val_losses = [r['val_loss'] for r in history]\n",
        "    plt.plot(train_losses, '-kx', label=\"train_loss\")\n",
        "    plt.plot(val_losses, '-rx', label=\"val_loss\")\n",
        "    plt.legend()\n",
        "    _ = plt.xticks(ticks=range(len(train_losses)), \n",
        "                   labels=[str(i) for i in range(1, len(train_losses)+1)])\n",
        "    plt.xlabel('epoch')\n",
        "    plt.ylabel('loss')\n",
        "    plt.title('Loss vs. epochs')\n",
        "\n",
        "def plot_lrs(history):\n",
        "    lrs = np.concatenate([x.get('lrs', []) for x in history])\n",
        "    plt.plot(lrs)\n",
        "    plt.xlabel('Batch no.')\n",
        "    plt.ylabel('Learning rate')\n",
        "    plt.title('Learning Rate vs. Batch no.');"
      ],
      "metadata": {
        "id": "cgu9am66Ya8z"
      },
      "execution_count": null,
      "outputs": []
    },
    {
      "cell_type": "code",
      "source": [
        "training_parameters = {\n",
        "    \"epochs\": 10,\n",
        "    \"max_lr\": 0.01,\n",
        "    \"weight_decay\": 0.1,\n",
        "    \"grad_clip\": 1e-4,\n",
        "    \"opt_func\": torch.optim.Adam,\n",
        "}"
      ],
      "metadata": {
        "id": "UC4OddqzYdZl"
      },
      "execution_count": null,
      "outputs": []
    },
    {
      "cell_type": "code",
      "source": [
        "model_name = \"EmotionRecognition\"\n",
        "history = end_to_end(model_name, training_parameters)  #### We couldn't run the model fully in time, so we're submitting without running it"
      ],
      "metadata": {
        "colab": {
          "base_uri": "https://localhost:8080/",
          "height": 466
        },
        "id": "NJARU6rdYkC1",
        "outputId": "821fd4b4-4108-45cf-bd5d-eae7d4499c63"
      },
      "execution_count": null,
      "outputs": [
        {
          "output_type": "stream",
          "name": "stdout",
          "text": [
            "226086\n"
          ]
        },
        {
          "output_type": "stream",
          "name": "stderr",
          "text": [
            "Epoch: 1/3: 100%|##########| 442/442 [09:32<00:00,  1.29s/it]\n"
          ]
        },
        {
          "output_type": "stream",
          "name": "stdout",
          "text": [
            "Epoch: 1/3 -> lr: 0.00994 loss: 1.8937, acc: 0.2389, val_loss: 1.9454, val_acc: 0.2509\n",
            "\n"
          ]
        },
        {
          "output_type": "stream",
          "name": "stderr",
          "text": [
            "Epoch: 2/3: 100%|##########| 442/442 [09:39<00:00,  1.31s/it]\n"
          ]
        },
        {
          "output_type": "stream",
          "name": "stdout",
          "text": [
            "Epoch: 2/3 -> lr: 0.00463 loss: 1.9455, acc: 0.2164, val_loss: 1.9455, val_acc: 0.2509\n",
            "\n"
          ]
        },
        {
          "output_type": "stream",
          "name": "stderr",
          "text": [
            "Epoch: 3/3:   5%|4         | 21/442 [00:28<09:40,  1.38s/it]\n"
          ]
        },
        {
          "output_type": "error",
          "ename": "KeyboardInterrupt",
          "evalue": "ignored",
          "traceback": [
            "\u001b[0;31m---------------------------------------------------------------------------\u001b[0m",
            "\u001b[0;31mKeyboardInterrupt\u001b[0m                         Traceback (most recent call last)",
            "\u001b[0;32m<ipython-input-45-554b94a3c8a1>\u001b[0m in \u001b[0;36m<module>\u001b[0;34m()\u001b[0m\n\u001b[1;32m      1\u001b[0m \u001b[0mmodel_name\u001b[0m \u001b[0;34m=\u001b[0m \u001b[0;34m\"EmotionRecognition\"\u001b[0m\u001b[0;34m\u001b[0m\u001b[0;34m\u001b[0m\u001b[0m\n\u001b[0;32m----> 2\u001b[0;31m \u001b[0mhistory\u001b[0m \u001b[0;34m=\u001b[0m \u001b[0mend_to_end\u001b[0m\u001b[0;34m(\u001b[0m\u001b[0mmodel_name\u001b[0m\u001b[0;34m,\u001b[0m \u001b[0mtraining_parameters\u001b[0m\u001b[0;34m)\u001b[0m\u001b[0;34m\u001b[0m\u001b[0;34m\u001b[0m\u001b[0m\n\u001b[0m",
            "\u001b[0;32m<ipython-input-42-d490a435ae63>\u001b[0m in \u001b[0;36mend_to_end\u001b[0;34m(model_name, parameters)\u001b[0m\n\u001b[1;32m     41\u001b[0m                 \u001b[0mweight_decay\u001b[0m\u001b[0;34m,\u001b[0m\u001b[0;34m\u001b[0m\u001b[0;34m\u001b[0m\u001b[0m\n\u001b[1;32m     42\u001b[0m                 \u001b[0mgrad_clip\u001b[0m\u001b[0;34m,\u001b[0m\u001b[0;34m\u001b[0m\u001b[0;34m\u001b[0m\u001b[0m\n\u001b[0;32m---> 43\u001b[0;31m                 \u001b[0mopt_func\u001b[0m\u001b[0;34m\u001b[0m\u001b[0;34m\u001b[0m\u001b[0m\n\u001b[0m\u001b[1;32m     44\u001b[0m             )\n\u001b[1;32m     45\u001b[0m \u001b[0;34m\u001b[0m\u001b[0m\n",
            "\u001b[0;32m<ipython-input-40-efc1a48d9a55>\u001b[0m in \u001b[0;36mfit_model\u001b[0;34m(model_name, model, epochs, max_lr, train_loader, val_loader, weight_decay, grad_clip, opt_func)\u001b[0m\n\u001b[1;32m     65\u001b[0m         \u001b[0;31m# Training Phase\u001b[0m\u001b[0;34m\u001b[0m\u001b[0;34m\u001b[0m\u001b[0;34m\u001b[0m\u001b[0m\n\u001b[1;32m     66\u001b[0m         \u001b[0mmodel\u001b[0m\u001b[0;34m.\u001b[0m\u001b[0mtrain\u001b[0m\u001b[0;34m(\u001b[0m\u001b[0;34m)\u001b[0m\u001b[0;34m\u001b[0m\u001b[0;34m\u001b[0m\u001b[0m\n\u001b[0;32m---> 67\u001b[0;31m         \u001b[0;32mfor\u001b[0m \u001b[0mbatch\u001b[0m \u001b[0;32min\u001b[0m \u001b[0mtqdm\u001b[0m\u001b[0;34m(\u001b[0m\u001b[0mtrain_loader\u001b[0m\u001b[0;34m,\u001b[0m \u001b[0mascii\u001b[0m\u001b[0;34m=\u001b[0m\u001b[0;32mTrue\u001b[0m\u001b[0;34m,\u001b[0m \u001b[0mdesc\u001b[0m\u001b[0;34m=\u001b[0m\u001b[0;34mf'Epoch: {epoch+1}/{epochs}'\u001b[0m\u001b[0;34m)\u001b[0m\u001b[0;34m:\u001b[0m\u001b[0;34m\u001b[0m\u001b[0;34m\u001b[0m\u001b[0m\n\u001b[0m\u001b[1;32m     68\u001b[0m             \u001b[0minfo\u001b[0m \u001b[0;34m=\u001b[0m \u001b[0mmodel\u001b[0m\u001b[0;34m.\u001b[0m\u001b[0mtraining_step\u001b[0m\u001b[0;34m(\u001b[0m\u001b[0mbatch\u001b[0m\u001b[0;34m)\u001b[0m\u001b[0;34m\u001b[0m\u001b[0;34m\u001b[0m\u001b[0m\n\u001b[1;32m     69\u001b[0m             \u001b[0mloss\u001b[0m \u001b[0;34m=\u001b[0m \u001b[0minfo\u001b[0m\u001b[0;34m[\u001b[0m\u001b[0;34m'loss'\u001b[0m\u001b[0;34m]\u001b[0m\u001b[0;34m\u001b[0m\u001b[0;34m\u001b[0m\u001b[0m\n",
            "\u001b[0;32m/usr/local/lib/python3.7/dist-packages/tqdm/std.py\u001b[0m in \u001b[0;36m__iter__\u001b[0;34m(self)\u001b[0m\n\u001b[1;32m   1193\u001b[0m \u001b[0;34m\u001b[0m\u001b[0m\n\u001b[1;32m   1194\u001b[0m         \u001b[0;32mtry\u001b[0m\u001b[0;34m:\u001b[0m\u001b[0;34m\u001b[0m\u001b[0;34m\u001b[0m\u001b[0m\n\u001b[0;32m-> 1195\u001b[0;31m             \u001b[0;32mfor\u001b[0m \u001b[0mobj\u001b[0m \u001b[0;32min\u001b[0m \u001b[0miterable\u001b[0m\u001b[0;34m:\u001b[0m\u001b[0;34m\u001b[0m\u001b[0;34m\u001b[0m\u001b[0m\n\u001b[0m\u001b[1;32m   1196\u001b[0m                 \u001b[0;32myield\u001b[0m \u001b[0mobj\u001b[0m\u001b[0;34m\u001b[0m\u001b[0;34m\u001b[0m\u001b[0m\n\u001b[1;32m   1197\u001b[0m                 \u001b[0;31m# Update and possibly print the progressbar.\u001b[0m\u001b[0;34m\u001b[0m\u001b[0;34m\u001b[0m\u001b[0;34m\u001b[0m\u001b[0m\n",
            "\u001b[0;32m<ipython-input-34-24f54f5041f7>\u001b[0m in \u001b[0;36m__iter__\u001b[0;34m(self)\u001b[0m\n\u001b[1;32m     20\u001b[0m     \u001b[0;32mdef\u001b[0m \u001b[0m__iter__\u001b[0m\u001b[0;34m(\u001b[0m\u001b[0mself\u001b[0m\u001b[0;34m)\u001b[0m\u001b[0;34m:\u001b[0m\u001b[0;34m\u001b[0m\u001b[0;34m\u001b[0m\u001b[0m\n\u001b[1;32m     21\u001b[0m         \u001b[0;34m\"\"\"Yield a batch of data after moving it to device\"\"\"\u001b[0m\u001b[0;34m\u001b[0m\u001b[0;34m\u001b[0m\u001b[0m\n\u001b[0;32m---> 22\u001b[0;31m         \u001b[0;32mfor\u001b[0m \u001b[0mb\u001b[0m \u001b[0;32min\u001b[0m \u001b[0mself\u001b[0m\u001b[0;34m.\u001b[0m\u001b[0mdl\u001b[0m\u001b[0;34m:\u001b[0m\u001b[0;34m\u001b[0m\u001b[0;34m\u001b[0m\u001b[0m\n\u001b[0m\u001b[1;32m     23\u001b[0m             \u001b[0;32myield\u001b[0m \u001b[0mto_device\u001b[0m\u001b[0;34m(\u001b[0m\u001b[0mb\u001b[0m\u001b[0;34m,\u001b[0m \u001b[0mself\u001b[0m\u001b[0;34m.\u001b[0m\u001b[0mdevice\u001b[0m\u001b[0;34m)\u001b[0m\u001b[0;34m\u001b[0m\u001b[0;34m\u001b[0m\u001b[0m\n\u001b[1;32m     24\u001b[0m \u001b[0;34m\u001b[0m\u001b[0m\n",
            "\u001b[0;32m/usr/local/lib/python3.7/dist-packages/torch/utils/data/dataloader.py\u001b[0m in \u001b[0;36m__next__\u001b[0;34m(self)\u001b[0m\n\u001b[1;32m    519\u001b[0m             \u001b[0;32mif\u001b[0m \u001b[0mself\u001b[0m\u001b[0;34m.\u001b[0m\u001b[0m_sampler_iter\u001b[0m \u001b[0;32mis\u001b[0m \u001b[0;32mNone\u001b[0m\u001b[0;34m:\u001b[0m\u001b[0;34m\u001b[0m\u001b[0;34m\u001b[0m\u001b[0m\n\u001b[1;32m    520\u001b[0m                 \u001b[0mself\u001b[0m\u001b[0;34m.\u001b[0m\u001b[0m_reset\u001b[0m\u001b[0;34m(\u001b[0m\u001b[0;34m)\u001b[0m\u001b[0;34m\u001b[0m\u001b[0;34m\u001b[0m\u001b[0m\n\u001b[0;32m--> 521\u001b[0;31m             \u001b[0mdata\u001b[0m \u001b[0;34m=\u001b[0m \u001b[0mself\u001b[0m\u001b[0;34m.\u001b[0m\u001b[0m_next_data\u001b[0m\u001b[0;34m(\u001b[0m\u001b[0;34m)\u001b[0m\u001b[0;34m\u001b[0m\u001b[0;34m\u001b[0m\u001b[0m\n\u001b[0m\u001b[1;32m    522\u001b[0m             \u001b[0mself\u001b[0m\u001b[0;34m.\u001b[0m\u001b[0m_num_yielded\u001b[0m \u001b[0;34m+=\u001b[0m \u001b[0;36m1\u001b[0m\u001b[0;34m\u001b[0m\u001b[0;34m\u001b[0m\u001b[0m\n\u001b[1;32m    523\u001b[0m             \u001b[0;32mif\u001b[0m \u001b[0mself\u001b[0m\u001b[0;34m.\u001b[0m\u001b[0m_dataset_kind\u001b[0m \u001b[0;34m==\u001b[0m \u001b[0m_DatasetKind\u001b[0m\u001b[0;34m.\u001b[0m\u001b[0mIterable\u001b[0m \u001b[0;32mand\u001b[0m\u001b[0;31m \u001b[0m\u001b[0;31m\\\u001b[0m\u001b[0;34m\u001b[0m\u001b[0;34m\u001b[0m\u001b[0m\n",
            "\u001b[0;32m/usr/local/lib/python3.7/dist-packages/torch/utils/data/dataloader.py\u001b[0m in \u001b[0;36m_next_data\u001b[0;34m(self)\u001b[0m\n\u001b[1;32m   1184\u001b[0m \u001b[0;34m\u001b[0m\u001b[0m\n\u001b[1;32m   1185\u001b[0m             \u001b[0;32massert\u001b[0m \u001b[0;32mnot\u001b[0m \u001b[0mself\u001b[0m\u001b[0;34m.\u001b[0m\u001b[0m_shutdown\u001b[0m \u001b[0;32mand\u001b[0m \u001b[0mself\u001b[0m\u001b[0;34m.\u001b[0m\u001b[0m_tasks_outstanding\u001b[0m \u001b[0;34m>\u001b[0m \u001b[0;36m0\u001b[0m\u001b[0;34m\u001b[0m\u001b[0;34m\u001b[0m\u001b[0m\n\u001b[0;32m-> 1186\u001b[0;31m             \u001b[0midx\u001b[0m\u001b[0;34m,\u001b[0m \u001b[0mdata\u001b[0m \u001b[0;34m=\u001b[0m \u001b[0mself\u001b[0m\u001b[0;34m.\u001b[0m\u001b[0m_get_data\u001b[0m\u001b[0;34m(\u001b[0m\u001b[0;34m)\u001b[0m\u001b[0;34m\u001b[0m\u001b[0;34m\u001b[0m\u001b[0m\n\u001b[0m\u001b[1;32m   1187\u001b[0m             \u001b[0mself\u001b[0m\u001b[0;34m.\u001b[0m\u001b[0m_tasks_outstanding\u001b[0m \u001b[0;34m-=\u001b[0m \u001b[0;36m1\u001b[0m\u001b[0;34m\u001b[0m\u001b[0;34m\u001b[0m\u001b[0m\n\u001b[1;32m   1188\u001b[0m             \u001b[0;32mif\u001b[0m \u001b[0mself\u001b[0m\u001b[0;34m.\u001b[0m\u001b[0m_dataset_kind\u001b[0m \u001b[0;34m==\u001b[0m \u001b[0m_DatasetKind\u001b[0m\u001b[0;34m.\u001b[0m\u001b[0mIterable\u001b[0m\u001b[0;34m:\u001b[0m\u001b[0;34m\u001b[0m\u001b[0;34m\u001b[0m\u001b[0m\n",
            "\u001b[0;32m/usr/local/lib/python3.7/dist-packages/torch/utils/data/dataloader.py\u001b[0m in \u001b[0;36m_get_data\u001b[0;34m(self)\u001b[0m\n\u001b[1;32m   1140\u001b[0m         \u001b[0;32melif\u001b[0m \u001b[0mself\u001b[0m\u001b[0;34m.\u001b[0m\u001b[0m_pin_memory\u001b[0m\u001b[0;34m:\u001b[0m\u001b[0;34m\u001b[0m\u001b[0;34m\u001b[0m\u001b[0m\n\u001b[1;32m   1141\u001b[0m             \u001b[0;32mwhile\u001b[0m \u001b[0mself\u001b[0m\u001b[0;34m.\u001b[0m\u001b[0m_pin_memory_thread\u001b[0m\u001b[0;34m.\u001b[0m\u001b[0mis_alive\u001b[0m\u001b[0;34m(\u001b[0m\u001b[0;34m)\u001b[0m\u001b[0;34m:\u001b[0m\u001b[0;34m\u001b[0m\u001b[0;34m\u001b[0m\u001b[0m\n\u001b[0;32m-> 1142\u001b[0;31m                 \u001b[0msuccess\u001b[0m\u001b[0;34m,\u001b[0m \u001b[0mdata\u001b[0m \u001b[0;34m=\u001b[0m \u001b[0mself\u001b[0m\u001b[0;34m.\u001b[0m\u001b[0m_try_get_data\u001b[0m\u001b[0;34m(\u001b[0m\u001b[0;34m)\u001b[0m\u001b[0;34m\u001b[0m\u001b[0;34m\u001b[0m\u001b[0m\n\u001b[0m\u001b[1;32m   1143\u001b[0m                 \u001b[0;32mif\u001b[0m \u001b[0msuccess\u001b[0m\u001b[0;34m:\u001b[0m\u001b[0;34m\u001b[0m\u001b[0;34m\u001b[0m\u001b[0m\n\u001b[1;32m   1144\u001b[0m                     \u001b[0;32mreturn\u001b[0m \u001b[0mdata\u001b[0m\u001b[0;34m\u001b[0m\u001b[0;34m\u001b[0m\u001b[0m\n",
            "\u001b[0;32m/usr/local/lib/python3.7/dist-packages/torch/utils/data/dataloader.py\u001b[0m in \u001b[0;36m_try_get_data\u001b[0;34m(self, timeout)\u001b[0m\n\u001b[1;32m    988\u001b[0m         \u001b[0;31m#   (bool: whether successfully get data, any: data if successful else None)\u001b[0m\u001b[0;34m\u001b[0m\u001b[0;34m\u001b[0m\u001b[0;34m\u001b[0m\u001b[0m\n\u001b[1;32m    989\u001b[0m         \u001b[0;32mtry\u001b[0m\u001b[0;34m:\u001b[0m\u001b[0;34m\u001b[0m\u001b[0;34m\u001b[0m\u001b[0m\n\u001b[0;32m--> 990\u001b[0;31m             \u001b[0mdata\u001b[0m \u001b[0;34m=\u001b[0m \u001b[0mself\u001b[0m\u001b[0;34m.\u001b[0m\u001b[0m_data_queue\u001b[0m\u001b[0;34m.\u001b[0m\u001b[0mget\u001b[0m\u001b[0;34m(\u001b[0m\u001b[0mtimeout\u001b[0m\u001b[0;34m=\u001b[0m\u001b[0mtimeout\u001b[0m\u001b[0;34m)\u001b[0m\u001b[0;34m\u001b[0m\u001b[0;34m\u001b[0m\u001b[0m\n\u001b[0m\u001b[1;32m    991\u001b[0m             \u001b[0;32mreturn\u001b[0m \u001b[0;34m(\u001b[0m\u001b[0;32mTrue\u001b[0m\u001b[0;34m,\u001b[0m \u001b[0mdata\u001b[0m\u001b[0;34m)\u001b[0m\u001b[0;34m\u001b[0m\u001b[0;34m\u001b[0m\u001b[0m\n\u001b[1;32m    992\u001b[0m         \u001b[0;32mexcept\u001b[0m \u001b[0mException\u001b[0m \u001b[0;32mas\u001b[0m \u001b[0me\u001b[0m\u001b[0;34m:\u001b[0m\u001b[0;34m\u001b[0m\u001b[0;34m\u001b[0m\u001b[0m\n",
            "\u001b[0;32m/usr/lib/python3.7/queue.py\u001b[0m in \u001b[0;36mget\u001b[0;34m(self, block, timeout)\u001b[0m\n\u001b[1;32m    177\u001b[0m                     \u001b[0;32mif\u001b[0m \u001b[0mremaining\u001b[0m \u001b[0;34m<=\u001b[0m \u001b[0;36m0.0\u001b[0m\u001b[0;34m:\u001b[0m\u001b[0;34m\u001b[0m\u001b[0;34m\u001b[0m\u001b[0m\n\u001b[1;32m    178\u001b[0m                         \u001b[0;32mraise\u001b[0m \u001b[0mEmpty\u001b[0m\u001b[0;34m\u001b[0m\u001b[0;34m\u001b[0m\u001b[0m\n\u001b[0;32m--> 179\u001b[0;31m                     \u001b[0mself\u001b[0m\u001b[0;34m.\u001b[0m\u001b[0mnot_empty\u001b[0m\u001b[0;34m.\u001b[0m\u001b[0mwait\u001b[0m\u001b[0;34m(\u001b[0m\u001b[0mremaining\u001b[0m\u001b[0;34m)\u001b[0m\u001b[0;34m\u001b[0m\u001b[0;34m\u001b[0m\u001b[0m\n\u001b[0m\u001b[1;32m    180\u001b[0m             \u001b[0mitem\u001b[0m \u001b[0;34m=\u001b[0m \u001b[0mself\u001b[0m\u001b[0;34m.\u001b[0m\u001b[0m_get\u001b[0m\u001b[0;34m(\u001b[0m\u001b[0;34m)\u001b[0m\u001b[0;34m\u001b[0m\u001b[0;34m\u001b[0m\u001b[0m\n\u001b[1;32m    181\u001b[0m             \u001b[0mself\u001b[0m\u001b[0;34m.\u001b[0m\u001b[0mnot_full\u001b[0m\u001b[0;34m.\u001b[0m\u001b[0mnotify\u001b[0m\u001b[0;34m(\u001b[0m\u001b[0;34m)\u001b[0m\u001b[0;34m\u001b[0m\u001b[0;34m\u001b[0m\u001b[0m\n",
            "\u001b[0;32m/usr/lib/python3.7/threading.py\u001b[0m in \u001b[0;36mwait\u001b[0;34m(self, timeout)\u001b[0m\n\u001b[1;32m    298\u001b[0m             \u001b[0;32melse\u001b[0m\u001b[0;34m:\u001b[0m\u001b[0;34m\u001b[0m\u001b[0;34m\u001b[0m\u001b[0m\n\u001b[1;32m    299\u001b[0m                 \u001b[0;32mif\u001b[0m \u001b[0mtimeout\u001b[0m \u001b[0;34m>\u001b[0m \u001b[0;36m0\u001b[0m\u001b[0;34m:\u001b[0m\u001b[0;34m\u001b[0m\u001b[0;34m\u001b[0m\u001b[0m\n\u001b[0;32m--> 300\u001b[0;31m                     \u001b[0mgotit\u001b[0m \u001b[0;34m=\u001b[0m \u001b[0mwaiter\u001b[0m\u001b[0;34m.\u001b[0m\u001b[0macquire\u001b[0m\u001b[0;34m(\u001b[0m\u001b[0;32mTrue\u001b[0m\u001b[0;34m,\u001b[0m \u001b[0mtimeout\u001b[0m\u001b[0;34m)\u001b[0m\u001b[0;34m\u001b[0m\u001b[0;34m\u001b[0m\u001b[0m\n\u001b[0m\u001b[1;32m    301\u001b[0m                 \u001b[0;32melse\u001b[0m\u001b[0;34m:\u001b[0m\u001b[0;34m\u001b[0m\u001b[0;34m\u001b[0m\u001b[0m\n\u001b[1;32m    302\u001b[0m                     \u001b[0mgotit\u001b[0m \u001b[0;34m=\u001b[0m \u001b[0mwaiter\u001b[0m\u001b[0;34m.\u001b[0m\u001b[0macquire\u001b[0m\u001b[0;34m(\u001b[0m\u001b[0;32mFalse\u001b[0m\u001b[0;34m)\u001b[0m\u001b[0;34m\u001b[0m\u001b[0;34m\u001b[0m\u001b[0m\n",
            "\u001b[0;31mKeyboardInterrupt\u001b[0m: "
          ]
        }
      ]
    },
    {
      "cell_type": "code",
      "source": [
        "plt.figure(figsize=(18, 6))\n",
        "plt.subplot(1, 3, 1)\n",
        "plot_accuracies(history)\n",
        "plt.subplot(1, 3, 2)\n",
        "plot_losses(history)\n",
        "\n",
        "plt.subplot(1, 3, 3)\n",
        "plot_lrs(history)"
      ],
      "metadata": {
        "id": "6Zyt9zQm8RfK"
      },
      "execution_count": null,
      "outputs": []
    }
  ]
}